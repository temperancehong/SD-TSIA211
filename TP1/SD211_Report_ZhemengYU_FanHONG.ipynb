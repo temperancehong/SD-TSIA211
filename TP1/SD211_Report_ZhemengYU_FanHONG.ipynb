{
 "cells": [
  {
   "cell_type": "code",
   "execution_count": 2,
   "metadata": {},
   "outputs": [],
   "source": [
    "import pandas as pd\n",
    "import numpy as np\n",
    "import matplotlib.pyplot as plt"
   ]
  },
  {
   "cell_type": "code",
   "execution_count": 3,
   "metadata": {},
   "outputs": [],
   "source": [
    "# load data\n",
    "data_matrix_train, COP_train, data_matrix_test, COP_test, names = np.load('data_center_data_matrix.npy', allow_pickle=True)"
   ]
  },
  {
   "cell_type": "markdown",
   "metadata": {},
   "source": [
    "# 3 Least Squares"
   ]
  },
  {
   "cell_type": "markdown",
   "metadata": {},
   "source": [
    "## Question 3.1"
   ]
  },
  {
   "cell_type": "markdown",
   "metadata": {},
   "source": [
    "Given that $ Aw = b$, we have:\n",
    "\n",
    "$$\n",
    "w_1 \\tilde{x}(t) + w_0 - y(t) \\tilde{x}(t) w_2  = y(t)\n",
    "$$\n",
    "\n",
    "The equation for $ y(t)$ is then given by:\n",
    "\n",
    "$$\n",
    "y(t) = \\frac{w_1^T \\tilde{x}(t) + w_0}{w_2^T \\tilde{x}(t) + 1}\n",
    "$$\n"
   ]
  },
  {
   "cell_type": "markdown",
   "metadata": {},
   "source": [
    "## Question 3.2"
   ]
  },
  {
   "cell_type": "code",
   "execution_count": 29,
   "metadata": {},
   "outputs": [
    {
     "name": "stdout",
     "output_type": "stream",
     "text": [
      "(722, 892)\n",
      "(722, 4)\n"
     ]
    }
   ],
   "source": [
    "print(data_matrix_train.shape)\n",
    "print(COP_train.shape)"
   ]
  },
  {
   "cell_type": "markdown",
   "metadata": {},
   "source": [
    "This means we have 722 data traces in total, 892 metrics for X and 4 metrics for y."
   ]
  },
  {
   "cell_type": "code",
   "execution_count": 8,
   "metadata": {},
   "outputs": [],
   "source": [
    "# Constructing matrices for min_w ||A w - b||_2**2\n",
    "\n",
    "# normalize data\n",
    "matrix_mean = np.mean(data_matrix_train, axis=0)\n",
    "M = data_matrix_train - matrix_mean\n",
    "matrix_std = np.std(M, axis=0)\n",
    "M = M / matrix_std\n",
    "\n",
    "A = np.hstack([M, np.ones((M.shape[0],1)), -(M.T * COP_train[:,3]).T])\n",
    "b = COP_train[:,3] # KPI -> y"
   ]
  },
  {
   "cell_type": "code",
   "execution_count": 12,
   "metadata": {},
   "outputs": [
    {
     "name": "stdout",
     "output_type": "stream",
     "text": [
      "(722, 1785)\n",
      "(722,)\n"
     ]
    }
   ],
   "source": [
    "print(A.shape)\n",
    "print(b.shape)"
   ]
  },
  {
   "cell_type": "code",
   "execution_count": 9,
   "metadata": {},
   "outputs": [],
   "source": [
    "w, residuals, rank, s = np.linalg.lstsq(A, b, rcond=None)"
   ]
  },
  {
   "cell_type": "code",
   "execution_count": 28,
   "metadata": {},
   "outputs": [
    {
     "name": "stdout",
     "output_type": "stream",
     "text": [
      "(1785,)\n",
      "The w are: [-0.00927821  0.08309371 -0.03672704 ...  0.01980595 -0.03057174\n",
      " -0.01188614]\n",
      "[]\n"
     ]
    }
   ],
   "source": [
    "print(w.shape)\n",
    "print('The w are:', w)\n",
    "print(residuals)"
   ]
  },
  {
   "cell_type": "markdown",
   "metadata": {},
   "source": [
    "## Question 3.3"
   ]
  },
  {
   "cell_type": "code",
   "execution_count": 18,
   "metadata": {},
   "outputs": [],
   "source": [
    "# Constructing matrices for the test set\n",
    "\n",
    "M_test = (data_matrix_test - matrix_mean) / matrix_std\n",
    "A_test = np.hstack([M_test, np.ones((M_test.shape[0],1)), -(M_test.T * COP_test[:,3]).T])\n",
    "b_test = COP_test[:,3]"
   ]
  },
  {
   "cell_type": "code",
   "execution_count": 19,
   "metadata": {},
   "outputs": [
    {
     "name": "stdout",
     "output_type": "stream",
     "text": [
      "(361, 1785)\n",
      "(361,)\n"
     ]
    }
   ],
   "source": [
    "print(A_test.shape)\n",
    "print(b_test.shape)"
   ]
  },
  {
   "cell_type": "code",
   "execution_count": 21,
   "metadata": {},
   "outputs": [],
   "source": [
    "# make predictions on the test set\n",
    "b_pred = A_test @ w"
   ]
  },
  {
   "cell_type": "code",
   "execution_count": 23,
   "metadata": {},
   "outputs": [],
   "source": [
    "# calculate the residuals for the test set\n",
    "residuals_test = b_test - b_pred"
   ]
  },
  {
   "cell_type": "code",
   "execution_count": 24,
   "metadata": {},
   "outputs": [
    {
     "data": {
      "text/plain": [
       "[<matplotlib.lines.Line2D at 0x13791d2b0>]"
      ]
     },
     "execution_count": 24,
     "metadata": {},
     "output_type": "execute_result"
    },
    {
     "data": {
      "image/png": "[encoded data removed]",
      "text/plain": [
       "<Figure size 640x480 with 1 Axes>"
      ]
     },
     "metadata": {},
     "output_type": "display_data"
    }
   ],
   "source": [
    "plt.plot(residuals_test)"
   ]
  },
  {
   "cell_type": "code",
   "execution_count": 31,
   "metadata": {},
   "outputs": [
    {
     "name": "stdout",
     "output_type": "stream",
     "text": [
      "The mean square error on the test set is 780.8984793524866\n",
      "The R2 score on the test set is -40.87585582907603\n"
     ]
    }
   ],
   "source": [
    "mse = np.mean((b_test - b_pred)**2)\n",
    "r2_score = 1 - (np.sum((b_test - b_pred)**2) / np.sum((b_test - np.mean(b_test))**2))\n",
    "print('The mean square error on the test set is {}'.format(mse))\n",
    "print('The R2 score on the test set is {}'.format(r2_score))\n"
   ]
  },
  {
   "cell_type": "markdown",
   "metadata": {},
   "source": [
    "We can see from the figure of residuals that there are some outliers with large residual, which may lead to the large mse and r2."
   ]
  },
  {
   "cell_type": "markdown",
   "metadata": {},
   "source": [
    "## Question 3.4"
   ]
  },
  {
   "cell_type": "code",
   "execution_count": 39,
   "metadata": {},
   "outputs": [
    {
     "name": "stdout",
     "output_type": "stream",
     "text": [
      "The w are: [-0.01238313  0.05780406 -0.00127775 ...  0.01590558 -0.03567897\n",
      "  0.0131232 ]\n",
      "The residuals are: [603.03064851]\n",
      "\n",
      "The mean square error after l2 regulaization on the test set is 301.0548280940149\n",
      "The R2 score after l2 regulaization on the test set is -15.144132574525923\n"
     ]
    }
   ],
   "source": [
    "# regularization parameter\n",
    "lambda_ = 100\n",
    "\n",
    "# change the A, b matrices to include the regularization term\n",
    "num_features = A.shape[1]\n",
    "A_reg = np.vstack([A, np.sqrt(lambda_) * np.eye(num_features)])\n",
    "b_reg = np.concatenate([b, np.zeros(num_features)])\n",
    "\n",
    "# Solve the regularized least squares problem\n",
    "w_reg, residuals_reg, rank_reg, s_reg = np.linalg.lstsq(A_reg, b_reg, rcond=None)\n",
    "print('The w are:', w_reg)\n",
    "print('The residuals are:', residuals_reg)\n",
    "\n",
    "# Calculate predictions\n",
    "b_pred_reg = A_test @ w_reg\n",
    "mse_reg = np.mean((b_pred_reg - b_test) ** 2)\n",
    "r2_score_reg = 1 - (np.sum((b_test - b_pred_reg)**2) / np.sum((b_test - np.mean(b_test))**2))\n",
    "print()\n",
    "print('The mean square error after l2 regulaization on the test set is {}'.format(mse_reg))\n",
    "print('The R2 score after l2 regulaization on the test set is {}'.format(r2_score_reg))\n"
   ]
  },
  {
   "cell_type": "code",
   "execution_count": 38,
   "metadata": {},
   "outputs": [
    {
     "data": {
      "text/plain": [
       "[<matplotlib.lines.Line2D at 0x1379f9880>]"
      ]
     },
     "execution_count": 38,
     "metadata": {},
     "output_type": "execute_result"
    },
    {
     "data": {
      "image/png": "[encoded data removed]",
      "text/plain": [
       "<Figure size 640x480 with 1 Axes>"
      ]
     },
     "metadata": {},
     "output_type": "display_data"
    }
   ],
   "source": [
    "# calculate the residuals for the test set\n",
    "residuals_test_reg = b_test - b_pred_reg\n",
    "plt.plot(residuals_test_reg)"
   ]
  },
  {
   "cell_type": "markdown",
   "metadata": {},
   "source": [
    "It is observed that the mse and r2 score decreased after l2 regularization, which indicates the improvement of prediction quality."
   ]
  },
  {
   "cell_type": "markdown",
   "metadata": {},
   "source": [
    "## Question 3.5"
   ]
  },
  {
   "cell_type": "markdown",
   "metadata": {},
   "source": [
    "The gradient function will be computed as follows:\n",
    "\n",
    "For the first term,\n",
    "$\\nabla_w (\\frac{1}{2} \\| Aw - b \\|^2) = A^T (Aw - b) $\n",
    "\n",
    "For the second term,\n",
    "$ \\nabla_w (\\frac{\\lambda}{2} \\| w \\|^2) = \\lambda w $\n",
    "\n",
    "Combining both, we have:\n",
    "$ \\nabla_w f_1(w) = A^T(Aw - b) + \\lambda w $\n",
    "\n",
    "The Hessian of the first term is $ A^T A $ and the Hessian of the second term is $ \\lambda I $, they are positive semidefinite.\n",
    "\n",
    "Therefore, the function $ f_1(w)$ is convex."
   ]
  },
  {
   "cell_type": "markdown",
   "metadata": {},
   "source": [
    "## Question 3.6"
   ]
  },
  {
   "cell_type": "code",
   "execution_count": 92,
   "metadata": {},
   "outputs": [
    {
     "name": "stdout",
     "output_type": "stream",
     "text": [
      "The Lipschitz coefficient is (2.863161135661648e-07+0j)\n"
     ]
    }
   ],
   "source": [
    "# calculate the Lipschitz coefficient\n",
    "\n",
    "A1 = A.T @ A\n",
    "lambda_ = 100\n",
    "eigenvalues = np.linalg.eigvals(A1)\n",
    "eigenvalues = np.sort(eigenvalues)\n",
    "max_eigenvalue = eigenvalues[-1]\n",
    "lip_coeff = 1 / (max_eigenvalue + lambda_)\n",
    "print('The Lipschitz coefficient is {}'.format(lip_coeff))"
   ]
  },
  {
   "cell_type": "markdown",
   "metadata": {},
   "source": [
    "We choose the step size that < 2* Lipschitz coefficient, which is 5*e-7."
   ]
  },
  {
   "cell_type": "code",
   "execution_count": 90,
   "metadata": {},
   "outputs": [],
   "source": [
    "# f1(w) = 1/2 (A w - b)^T (A w - b) + lambda/2 w^T w\n",
    "# gradient descent to minimize f1\n",
    "\n",
    "def compute_gradient(A, w, b, lambda_):\n",
    "    return A.T @ (A @ w - b) + lambda_ * w\n",
    "\n",
    "def gradient_descent(A, b, lambda_, learning_rate=5*1e-7, max_iter=100000, tolerance = 1):\n",
    "    w = np.zeros(A.shape[1])\n",
    "    gradient_norm = np.inf\n",
    "    iter_num = 0\n",
    "    \n",
    "    while gradient_norm > tolerance and iter_num < max_iter:\n",
    "        gradient = compute_gradient(A, w, b, lambda_)\n",
    "        w = w - learning_rate * gradient\n",
    "        gradient_norm = np.linalg.norm(gradient)\n",
    "        iter_num += 1\n",
    "    \n",
    "    return w, iter_num"
   ]
  },
  {
   "cell_type": "code",
   "execution_count": 91,
   "metadata": {},
   "outputs": [
    {
     "data": {
      "text/plain": [
       "(array([-0.01238055,  0.05775866, -0.00111775, ...,  0.01579912,\n",
       "        -0.03571616,  0.0133528 ]),\n",
       " 55858)"
      ]
     },
     "execution_count": 91,
     "metadata": {},
     "output_type": "execute_result"
    }
   ],
   "source": [
    "w_res, iter_num = gradient_descent(A, b, lambda_ = 100)\n",
    "w_res, iter_num"
   ]
  },
  {
   "cell_type": "markdown",
   "metadata": {},
   "source": [
    "We can verify that if alpha is larger than $5*e^{-7}$, we will get RunTime Error, but if alpha is smaller, the model is converging too slowly.\n",
    "\n",
    "With this choice of alpha, 55858 iterations are need such that the norm the gradient is smaller than 1."
   ]
  },
  {
   "cell_type": "code",
   "execution_count": 93,
   "metadata": {},
   "outputs": [
    {
     "name": "stdout",
     "output_type": "stream",
     "text": [
      "The mean square error on the test set is 302.0102332368782\n",
      "The R2 score on the test set is -15.195366389264652\n"
     ]
    }
   ],
   "source": [
    "# make predictions\n",
    "b_pred= A_test @ w_res\n",
    "mse = np.mean((b_test - b_pred)**2)\n",
    "r2_score = 1 - (np.sum((b_test - b_pred)**2) / np.sum((b_test - np.mean(b_test))**2))\n",
    "print('The mean square error on the test set is {}'.format(mse))\n",
    "print('The R2 score on the test set is {}'.format(r2_score))"
   ]
  },
  {
   "cell_type": "markdown",
   "metadata": {},
   "source": [
    "# Regularization for a sparse model"
   ]
  },
  {
   "cell_type": "markdown",
   "metadata": {},
   "source": [
    "## Question 4.1"
   ]
  },
  {
   "cell_type": "markdown",
   "metadata": {},
   "source": [
    "Here, $f_2 = \\frac{1}{2}\\|Aw-b\\|^2$ and $g_2 = \\lambda \\|w\\|_1$\n",
    "\n",
    "The formula for $\\text{prox}_{g2}(x)$ is $\\text{prox}_{g2}(x) = \\arg\\min_y (g_2(y) + \\frac{1}{2}\\|x - y\\|^2)$.\n",
    "\n",
    "The gradient of $f_2$ is $\\nabla f_2(\\mathbf{w}) = A^T(A\\mathbf{w} - \\mathbf{b})$."
   ]
  },
  {
   "cell_type": "markdown",
   "metadata": {},
   "source": [
    "## Question 4.2"
   ]
  },
  {
   "cell_type": "markdown",
   "metadata": {},
   "source": [
    "We have,\n",
    "$$\n",
    "{prox}_g(x_i) =p_i = \\begin{cases}\n",
    "= x_i + \\lambda & \\text{if } x_i < -\\lambda \\\\\n",
    "= 0 & \\text{if } -\\lambda \\leq x_i - p_i \\leq \\lambda \\\\\n",
    "= x_i - \\lambda & \\text{if } x_i > \\lambda \n",
    "\\end{cases}\n",
    "$$"
   ]
  },
  {
   "cell_type": "code",
   "execution_count": 95,
   "metadata": {},
   "outputs": [],
   "source": [
    "def prox_g(x, lambda_, alpha):\n",
    "    result=[]\n",
    "    lambda_reg=lambda_*alpha\n",
    "    for i in x:\n",
    "        if i>lambda_reg:\n",
    "            result.append(i-lambda_reg)\n",
    "        elif i<-lambda_reg:\n",
    "            result.append(i+lambda_reg)\n",
    "        else:\n",
    "            result.append(0)\n",
    "    return np.array(result)"
   ]
  },
  {
   "cell_type": "code",
   "execution_count": 96,
   "metadata": {},
   "outputs": [],
   "source": [
    "def gradient_f2(A, b, w):\n",
    "    return A.T @ (A @ w - b)"
   ]
  },
  {
   "cell_type": "markdown",
   "metadata": {},
   "source": [
    "As we wish to force most of the nonzero values to be exactly 0, we set the number of nonzero value as a stopping criteria."
   ]
  },
  {
   "cell_type": "code",
   "execution_count": 99,
   "metadata": {},
   "outputs": [],
   "source": [
    "def proximal_gradient_descent(A, b, lambda_reg, alpha, tolerance=1, max_iterations=100000):\n",
    "    w = np.ones(A.shape[1])\n",
    "    gradient = gradient_f2(A, b, w)\n",
    "    iter_num = 0\n",
    "    gradient_norm = np.inf\n",
    "    \n",
    "    while gradient_norm > tolerance and np.sum(w!=0)>100 and iter_num < max_iterations:\n",
    "        w = prox_g(w - alpha * gradient, lambda_reg, alpha)\n",
    "        gradient = gradient_f2(A, b, w)\n",
    "        gradient_norm = np.linalg.norm(gradient)\n",
    "        iter_num += 1\n",
    "    return w, iter_num"
   ]
  },
  {
   "cell_type": "code",
   "execution_count": 121,
   "metadata": {},
   "outputs": [
    {
     "name": "stdout",
     "output_type": "stream",
     "text": [
      "The time for proximal gradient descent is 6.6064112186431885\n",
      "The w are: [0. 0. 0. ... 0. 0. 0.]\n",
      "The number of iterations is 11200\n"
     ]
    }
   ],
   "source": [
    "import  time\n",
    "lambda_reg = 200 \n",
    "alpha = 5*10**(-7)\n",
    "\n",
    "start_tiem = time.time()\n",
    "w, iter_num = proximal_gradient_descent(A, b, lambda_reg, alpha)\n",
    "end_time = time.time()\n",
    "\n",
    "print('The time for proximal gradient descent is {}'.format(end_time - start_tiem))\n",
    "print('The w are:', w)\n",
    "print('The number of iterations is {}'.format(iter_num))"
   ]
  },
  {
   "cell_type": "code",
   "execution_count": 107,
   "metadata": {},
   "outputs": [
    {
     "data": {
      "text/plain": [
       "7.429807155774624"
      ]
     },
     "execution_count": 107,
     "metadata": {},
     "output_type": "execute_result"
    }
   ],
   "source": [
    "sum(w)"
   ]
  },
  {
   "cell_type": "code",
   "execution_count": 122,
   "metadata": {},
   "outputs": [
    {
     "name": "stdout",
     "output_type": "stream",
     "text": [
      "The mean square error on the test set is 32.178118036241955\n",
      "The R2 score on the test set is -0.7255587856362351\n"
     ]
    }
   ],
   "source": [
    "# make predictions\n",
    "b_pred= A_test @ w\n",
    "mse = np.mean((b_test - b_pred)**2)\n",
    "r2_score = 1 - (np.sum((b_test - b_pred)**2) / np.sum((b_test - np.mean(b_test))**2))\n",
    "print('The mean square error on the test set is {}'.format(mse))\n",
    "print('The R2 score on the test set is {}'.format(r2_score))"
   ]
  },
  {
   "cell_type": "markdown",
   "metadata": {},
   "source": [
    "## Question 4.3"
   ]
  },
  {
   "cell_type": "code",
   "execution_count": 115,
   "metadata": {},
   "outputs": [],
   "source": [
    "def cost_f2(A, b, w):\n",
    "    pred_error = A @ w - b\n",
    "    L =  np.sum(pred_error ** 2)/2\n",
    "    return L\n",
    "\n",
    "def line_search(A, b, w, grad, lambda_reg, alpha, beta=0.5):\n",
    "    L1 = cost_f2(A, b, prox_g(w - alpha * grad, lambda_reg, alpha))\n",
    "    L2 = cost_f2(A, b, w)\n",
    "    while L1 > L2 + np.dot(grad, prox_g(w - alpha * grad, lambda_reg, alpha)-w) + 1/(2*alpha) * np.linalg.norm(prox_g(w - alpha * grad, lambda_reg, alpha)-w)**2:\n",
    "        alpha *= beta\n",
    "    return alpha"
   ]
  },
  {
   "cell_type": "code",
   "execution_count": 116,
   "metadata": {},
   "outputs": [],
   "source": [
    "def proximal_gradient_descent_line_research(A, b, lambda_reg, alpha0, tolerance=1, max_iterations=100000):\n",
    "    w = np.ones(A.shape[1])\n",
    "    gradient = gradient_f2(A, b, w)\n",
    "    iter_num = 0\n",
    "    while np.linalg.norm(gradient) > tolerance and np.sum(w!=0)>100 and iter_num < max_iterations:\n",
    "        alpha = line_search(A,b,w,gradient,lambda_reg,alpha0)\n",
    "        w = prox_g(w - alpha * gradient,lambda_reg,alpha)\n",
    "        gradient = gradient_f2(A, b, w)\n",
    "        iter_num += 1\n",
    "    return w, iter_num"
   ]
  },
  {
   "cell_type": "code",
   "execution_count": 120,
   "metadata": {},
   "outputs": [
    {
     "name": "stdout",
     "output_type": "stream",
     "text": [
      "The time for proximal gradient descent is 17.654217004776\n",
      "The w are: [0. 0. 0. ... 0. 0. 0.]\n",
      "The number of iterations is 11202\n"
     ]
    }
   ],
   "source": [
    "lambda_reg = 200 \n",
    "alpha = 5*10**(-7)\n",
    "\n",
    "start_tiem = time.time()\n",
    "w, iter_num = proximal_gradient_descent_line_research(A, b, lambda_reg, alpha)\n",
    "end_time = time.time()\n",
    "\n",
    "print('The time for proximal gradient descent is {}'.format(end_time - start_tiem))\n",
    "print('The w are:', w)\n",
    "print('The number of iterations is {}'.format(iter_num))"
   ]
  },
  {
   "cell_type": "markdown",
   "metadata": {},
   "source": [
    "Time longer? I got some doubts in this implementation. :("
   ]
  },
  {
   "cell_type": "markdown",
   "metadata": {},
   "source": [
    "## Question 6.1"
   ]
  },
  {
   "cell_type": "markdown",
   "metadata": {},
   "source": [
    "We can see that the MSE and r2 score on test set is smaller when using the L1 regularization on this question.\n",
    "\n",
    "The reason may be that this model is probably a sparse model, which fits well to the essence of L1 regularization by forcing zero weights."
   ]
  },
  {
   "cell_type": "markdown",
   "metadata": {},
   "source": []
  }
 ],
 "metadata": {
  "kernelspec": {
   "display_name": "SD201",
   "language": "python",
   "name": "python3"
  },
  "language_info": {
   "codemirror_mode": {
    "name": "ipython",
    "version": 3
   },
   "file_extension": ".py",
   "mimetype": "text/x-python",
   "name": "python",
   "nbconvert_exporter": "python",
   "pygments_lexer": "ipython3",
   "version": "3.8.16"
  }
 },
 "nbformat": 4,
 "nbformat_minor": 2
}
